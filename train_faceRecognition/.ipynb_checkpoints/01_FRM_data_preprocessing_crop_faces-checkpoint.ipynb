{
 "cells": [
  {
   "cell_type": "code",
   "execution_count": 5,
   "id": "63a79e53",
   "metadata": {},
   "outputs": [],
   "source": [
    "import numpy as np\n",
    "import cv2\n",
    "from glob import glob\n",
    "import matplotlib.pyplot as plt"
   ]
  },
  {
   "cell_type": "code",
   "execution_count": 6,
   "id": "6a6d5374",
   "metadata": {},
   "outputs": [],
   "source": [
    "#This will load the images from the data folder\n",
    "fpath = glob('./data/female/*.jpg')\n",
    "mpath = glob('./data/male/*.jpg')"
   ]
  },
  {
   "cell_type": "code",
   "execution_count": null,
   "id": "50498f10",
   "metadata": {},
   "outputs": [],
   "source": [
    "print('Number of images in Female folder:', len(fpath))\n",
    "print('Number of images in Male folder:', len(mpath))"
   ]
  },
  {
   "cell_type": "code",
   "execution_count": 14,
   "id": "ddfff21e",
   "metadata": {},
   "outputs": [],
   "source": [
    "\n",
    "haar = cv2.CascadeClassifier('./model/haarcascade_frontalface_default.xml')"
   ]
  },
  {
   "cell_type": "markdown",
   "id": "ad5dc38b",
   "metadata": {},
   "source": [
    "Process all females image"
   ]
  },
  {
   "cell_type": "code",
   "execution_count": null,
   "id": "dc8cc834",
   "metadata": {},
   "outputs": [],
   "source": [
    "for i in range(len(fpath)):\n",
    "    try:\n",
    "        #Read the images and convert to RGB\n",
    "        img = cv2.imread(fpath[i]) #read image in BGR\n",
    "        img_rgb = cv2.cvtColor(img,cv2.COLOR_BGR2RGB) #this step will convert image from BGR to RGB\n",
    "\n",
    "        #Apply Haar cascade classifier\n",
    "        gray = cv2.cvtColor(img_rgb,cv2.COLOR_BGR2GRAY)\n",
    "        faces_list = haar.detectMultiScale(gray,1.5,5)\n",
    "        '''\n",
    "            x, y → Top-left corner of the detected face.\n",
    "            w, h → Width and height of the detected face.\n",
    "        '''\n",
    "        for x,y,w,h in faces_list:\n",
    "            #crop the face\n",
    "            roi = img[y:y+h,x:x+w]\n",
    "            #save the image\n",
    "            cv2.imwrite(f'./crop_data/female/female_{i}.jpg',roi)\n",
    "            print(f'Image {i} sucessfully processed')    \n",
    "    except:\n",
    "        print(f'Unable to Process the image {i}')\n"
   ]
  },
  {
   "cell_type": "markdown",
   "id": "4f0b85d6",
   "metadata": {},
   "source": [
    "Process all males image"
   ]
  },
  {
   "cell_type": "code",
   "execution_count": null,
   "id": "0f4577b9",
   "metadata": {},
   "outputs": [],
   "source": [
    "for i in range(len(mpath)):\n",
    "    try:\n",
    "        #Read the images and convert to RGB\n",
    "        img = cv2.imread(mpath[i]) #read image in BGR\n",
    "        img_rgb = cv2.cvtColor(img,cv2.COLOR_BGR2RGB) #this step will convert image from BGR to RGB\n",
    "\n",
    "        #Apply Haar cascade classifier\n",
    "        gray = cv2.cvtColor(img_rgb,cv2.COLOR_BGR2GRAY)\n",
    "        faces_list = haar.detectMultiScale(gray,1.5,5)\n",
    "        '''\n",
    "            x, y → Top-left corner of the detected face.\n",
    "            w, h → Width and height of the detected face.\n",
    "        '''\n",
    "        for x,y,w,h in faces_list:\n",
    "            #crop the face\n",
    "            roi = img[y:y+h,x:x+w]\n",
    "            #save the image\n",
    "            cv2.imwrite(f'./crop_data/male/male_{i}.jpg',roi)\n",
    "            print(f'Image {i} sucessfully processed')    \n",
    "    except:\n",
    "        print(f'Unable to Process the image {i}')"
   ]
  },
  {
   "cell_type": "code",
   "execution_count": null,
   "id": "1fb606e4",
   "metadata": {},
   "outputs": [],
   "source": []
  }
 ],
 "metadata": {
  "kernelspec": {
   "display_name": "Python 3 (ipykernel)",
   "language": "python",
   "name": "python3"
  },
  "language_info": {
   "codemirror_mode": {
    "name": "ipython",
    "version": 3
   },
   "file_extension": ".py",
   "mimetype": "text/x-python",
   "name": "python",
   "nbconvert_exporter": "python",
   "pygments_lexer": "ipython3",
   "version": "3.10.1"
  }
 },
 "nbformat": 4,
 "nbformat_minor": 5
}
