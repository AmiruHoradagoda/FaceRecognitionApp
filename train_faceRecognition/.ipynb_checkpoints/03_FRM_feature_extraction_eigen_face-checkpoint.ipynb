{
 "cells": [
  {
   "cell_type": "markdown",
   "id": "c49c1214",
   "metadata": {},
   "source": [
    "### Feature Exteaction with Eigen Face"
   ]
  },
  {
   "cell_type": "code",
   "execution_count": 2,
   "id": "b028dddc",
   "metadata": {},
   "outputs": [],
   "source": [
    "import numpy as np\n",
    "import pandas as pd\n",
    "import matplotlib.pyplot as plt\n",
    "\n",
    "import cv2\n",
    "### Eigen Face\n",
    "from sklearn.decomposition import PCA\n",
    "\n",
    "import pickle "
   ]
  },
  {
   "cell_type": "code",
   "execution_count": 4,
   "id": "52b7d1fb",
   "metadata": {},
   "outputs": [],
   "source": [
    "#Load the data\n",
    "data = pickle.load(open('./data/data_images_100_100.pkl',mode='rb')) #Load the data\n"
   ]
  },
  {
   "cell_type": "code",
   "execution_count": 5,
   "id": "5c785010",
   "metadata": {},
   "outputs": [
    {
     "data": {
      "text/html": [
       "<div>\n",
       "<style scoped>\n",
       "    .dataframe tbody tr th:only-of-type {\n",
       "        vertical-align: middle;\n",
       "    }\n",
       "\n",
       "    .dataframe tbody tr th {\n",
       "        vertical-align: top;\n",
       "    }\n",
       "\n",
       "    .dataframe thead th {\n",
       "        text-align: right;\n",
       "    }\n",
       "</style>\n",
       "<table border=\"1\" class=\"dataframe\">\n",
       "  <thead>\n",
       "    <tr style=\"text-align: right;\">\n",
       "      <th></th>\n",
       "      <th>pixel0</th>\n",
       "      <th>pixel1</th>\n",
       "      <th>pixel2</th>\n",
       "      <th>pixel3</th>\n",
       "      <th>pixel4</th>\n",
       "      <th>pixel5</th>\n",
       "      <th>pixel6</th>\n",
       "      <th>pixel7</th>\n",
       "      <th>pixel8</th>\n",
       "      <th>pixel9</th>\n",
       "      <th>...</th>\n",
       "      <th>pixel9991</th>\n",
       "      <th>pixel9992</th>\n",
       "      <th>pixel9993</th>\n",
       "      <th>pixel9994</th>\n",
       "      <th>pixel9995</th>\n",
       "      <th>pixel9996</th>\n",
       "      <th>pixel9997</th>\n",
       "      <th>pixel9998</th>\n",
       "      <th>pixel9999</th>\n",
       "      <th>gender</th>\n",
       "    </tr>\n",
       "  </thead>\n",
       "  <tbody>\n",
       "    <tr>\n",
       "      <th>0</th>\n",
       "      <td>0.784314</td>\n",
       "      <td>0.741176</td>\n",
       "      <td>0.737255</td>\n",
       "      <td>0.709804</td>\n",
       "      <td>0.721569</td>\n",
       "      <td>0.725490</td>\n",
       "      <td>0.701961</td>\n",
       "      <td>0.690196</td>\n",
       "      <td>0.741176</td>\n",
       "      <td>0.705882</td>\n",
       "      <td>...</td>\n",
       "      <td>0.415686</td>\n",
       "      <td>0.423529</td>\n",
       "      <td>0.435294</td>\n",
       "      <td>0.443137</td>\n",
       "      <td>0.450980</td>\n",
       "      <td>0.470588</td>\n",
       "      <td>0.458824</td>\n",
       "      <td>0.462745</td>\n",
       "      <td>0.478431</td>\n",
       "      <td>female</td>\n",
       "    </tr>\n",
       "    <tr>\n",
       "      <th>1</th>\n",
       "      <td>0.121569</td>\n",
       "      <td>0.098039</td>\n",
       "      <td>0.137255</td>\n",
       "      <td>0.098039</td>\n",
       "      <td>0.121569</td>\n",
       "      <td>0.113725</td>\n",
       "      <td>0.117647</td>\n",
       "      <td>0.121569</td>\n",
       "      <td>0.133333</td>\n",
       "      <td>0.133333</td>\n",
       "      <td>...</td>\n",
       "      <td>0.105882</td>\n",
       "      <td>0.086275</td>\n",
       "      <td>0.117647</td>\n",
       "      <td>0.086275</td>\n",
       "      <td>0.137255</td>\n",
       "      <td>0.078431</td>\n",
       "      <td>0.137255</td>\n",
       "      <td>0.254902</td>\n",
       "      <td>0.074510</td>\n",
       "      <td>female</td>\n",
       "    </tr>\n",
       "    <tr>\n",
       "      <th>2</th>\n",
       "      <td>0.192157</td>\n",
       "      <td>0.192157</td>\n",
       "      <td>0.137255</td>\n",
       "      <td>0.133333</td>\n",
       "      <td>0.164706</td>\n",
       "      <td>0.156863</td>\n",
       "      <td>0.137255</td>\n",
       "      <td>0.152941</td>\n",
       "      <td>0.278431</td>\n",
       "      <td>0.243137</td>\n",
       "      <td>...</td>\n",
       "      <td>0.901961</td>\n",
       "      <td>0.905882</td>\n",
       "      <td>0.929412</td>\n",
       "      <td>0.933333</td>\n",
       "      <td>0.901961</td>\n",
       "      <td>0.862745</td>\n",
       "      <td>0.831373</td>\n",
       "      <td>0.823529</td>\n",
       "      <td>0.815686</td>\n",
       "      <td>female</td>\n",
       "    </tr>\n",
       "    <tr>\n",
       "      <th>3</th>\n",
       "      <td>0.537255</td>\n",
       "      <td>0.501961</td>\n",
       "      <td>0.447059</td>\n",
       "      <td>0.376471</td>\n",
       "      <td>0.376471</td>\n",
       "      <td>0.372549</td>\n",
       "      <td>0.364706</td>\n",
       "      <td>0.447059</td>\n",
       "      <td>0.588235</td>\n",
       "      <td>0.639216</td>\n",
       "      <td>...</td>\n",
       "      <td>0.207843</td>\n",
       "      <td>0.266667</td>\n",
       "      <td>0.262745</td>\n",
       "      <td>0.290196</td>\n",
       "      <td>0.360784</td>\n",
       "      <td>0.380392</td>\n",
       "      <td>0.403922</td>\n",
       "      <td>0.400000</td>\n",
       "      <td>0.376471</td>\n",
       "      <td>female</td>\n",
       "    </tr>\n",
       "    <tr>\n",
       "      <th>4</th>\n",
       "      <td>0.917647</td>\n",
       "      <td>0.925490</td>\n",
       "      <td>0.905882</td>\n",
       "      <td>0.905882</td>\n",
       "      <td>0.905882</td>\n",
       "      <td>0.725490</td>\n",
       "      <td>0.556863</td>\n",
       "      <td>0.435294</td>\n",
       "      <td>0.203922</td>\n",
       "      <td>0.176471</td>\n",
       "      <td>...</td>\n",
       "      <td>0.941176</td>\n",
       "      <td>0.925490</td>\n",
       "      <td>0.929412</td>\n",
       "      <td>0.937255</td>\n",
       "      <td>0.929412</td>\n",
       "      <td>0.929412</td>\n",
       "      <td>0.949020</td>\n",
       "      <td>0.945098</td>\n",
       "      <td>0.945098</td>\n",
       "      <td>female</td>\n",
       "    </tr>\n",
       "  </tbody>\n",
       "</table>\n",
       "<p>5 rows × 10001 columns</p>\n",
       "</div>"
      ],
      "text/plain": [
       "     pixel0    pixel1    pixel2    pixel3    pixel4    pixel5    pixel6  \\\n",
       "0  0.784314  0.741176  0.737255  0.709804  0.721569  0.725490  0.701961   \n",
       "1  0.121569  0.098039  0.137255  0.098039  0.121569  0.113725  0.117647   \n",
       "2  0.192157  0.192157  0.137255  0.133333  0.164706  0.156863  0.137255   \n",
       "3  0.537255  0.501961  0.447059  0.376471  0.376471  0.372549  0.364706   \n",
       "4  0.917647  0.925490  0.905882  0.905882  0.905882  0.725490  0.556863   \n",
       "\n",
       "     pixel7    pixel8    pixel9  ...  pixel9991  pixel9992  pixel9993  \\\n",
       "0  0.690196  0.741176  0.705882  ...   0.415686   0.423529   0.435294   \n",
       "1  0.121569  0.133333  0.133333  ...   0.105882   0.086275   0.117647   \n",
       "2  0.152941  0.278431  0.243137  ...   0.901961   0.905882   0.929412   \n",
       "3  0.447059  0.588235  0.639216  ...   0.207843   0.266667   0.262745   \n",
       "4  0.435294  0.203922  0.176471  ...   0.941176   0.925490   0.929412   \n",
       "\n",
       "   pixel9994  pixel9995  pixel9996  pixel9997  pixel9998  pixel9999  gender  \n",
       "0   0.443137   0.450980   0.470588   0.458824   0.462745   0.478431  female  \n",
       "1   0.086275   0.137255   0.078431   0.137255   0.254902   0.074510  female  \n",
       "2   0.933333   0.901961   0.862745   0.831373   0.823529   0.815686  female  \n",
       "3   0.290196   0.360784   0.380392   0.403922   0.400000   0.376471  female  \n",
       "4   0.937255   0.929412   0.929412   0.949020   0.945098   0.945098  female  \n",
       "\n",
       "[5 rows x 10001 columns]"
      ]
     },
     "execution_count": 5,
     "metadata": {},
     "output_type": "execute_result"
    }
   ],
   "source": [
    "data.head()"
   ]
  },
  {
   "cell_type": "markdown",
   "id": "9197804a",
   "metadata": {},
   "source": [
    "### Eigen Face"
   ]
  },
  {
   "cell_type": "code",
   "execution_count": 8,
   "id": "ad613d78",
   "metadata": {},
   "outputs": [],
   "source": [
    "#Mean Face\n",
    "X = data.drop('gender',axis=1).values #all images"
   ]
  },
  {
   "cell_type": "code",
   "execution_count": 9,
   "id": "34bc43d5",
   "metadata": {},
   "outputs": [
    {
     "data": {
      "text/plain": [
       "(4321, 10000)"
      ]
     },
     "execution_count": 9,
     "metadata": {},
     "output_type": "execute_result"
    }
   ],
   "source": [
    "X.shape\n"
   ]
  },
  {
   "cell_type": "code",
   "execution_count": 10,
   "id": "71cd9201",
   "metadata": {},
   "outputs": [
    {
     "data": {
      "text/plain": [
       "(10000,)"
      ]
     },
     "execution_count": 10,
     "metadata": {},
     "output_type": "execute_result"
    }
   ],
   "source": [
    "mean_face = X.mean(axis=0) #flatten mean face\n",
    "mean_face.shape"
   ]
  },
  {
   "cell_type": "code",
   "execution_count": 12,
   "id": "83d81702",
   "metadata": {},
   "outputs": [
    {
     "data": {
      "image/png": "[encoded data removed]",
      "text/plain": [
       "<Figure size 432x288 with 1 Axes>"
      ]
     },
     "metadata": {
      "needs_background": "light"
     },
     "output_type": "display_data"
    }
   ],
   "source": [
    "#visualize mean face\n",
    "plt.imshow(mean_face.reshape((100,100)),cmap='gray')\n",
    "plt.axis('off')\n",
    "plt.show()"
   ]
  },
  {
   "cell_type": "code",
   "execution_count": null,
   "id": "f5947fdb",
   "metadata": {},
   "outputs": [],
   "source": []
  }
 ],
 "metadata": {
  "kernelspec": {
   "display_name": "Python 3 (ipykernel)",
   "language": "python",
   "name": "python3"
  },
  "language_info": {
   "codemirror_mode": {
    "name": "ipython",
    "version": 3
   },
   "file_extension": ".py",
   "mimetype": "text/x-python",
   "name": "python",
   "nbconvert_exporter": "python",
   "pygments_lexer": "ipython3",
   "version": "3.10.1"
  }
 },
 "nbformat": 4,
 "nbformat_minor": 5
}
