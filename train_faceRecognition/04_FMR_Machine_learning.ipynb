{
 "cells": [
  {
   "cell_type": "code",
   "execution_count": 2,
   "id": "61eb9214",
   "metadata": {},
   "outputs": [],
   "source": [
    "import numpy as np\n",
    "import pandas as pd\n",
    "\n",
    "from sklearn.model_selection import train_test_split\n",
    "from sklearn.svm import SVC\n",
    "from sklearn.model_selection import GridSearchCV\n",
    "from sklearn import metrics"
   ]
  },
  {
   "cell_type": "code",
   "execution_count": 4,
   "id": "9523e79a",
   "metadata": {},
   "outputs": [
    {
     "data": {
      "text/plain": [
       "['arr_0', 'arr_1']"
      ]
     },
     "execution_count": 4,
     "metadata": {},
     "output_type": "execute_result"
    }
   ],
   "source": [
    "#Load numpy array\n",
    "data = np.load('./data/data_pca_50_target.npz')\n",
    "data.files"
   ]
  },
  {
   "cell_type": "code",
   "execution_count": 6,
   "id": "7f7c116a",
   "metadata": {},
   "outputs": [],
   "source": [
    "data.allow_pickle = True"
   ]
  },
  {
   "cell_type": "code",
   "execution_count": 7,
   "id": "0ff3c883",
   "metadata": {},
   "outputs": [],
   "source": [
    "X = data['arr_0'] #PCA data with 50 components\n",
    "Y = data['arr_1'] #target or dependent variable"
   ]
  },
  {
   "cell_type": "code",
   "execution_count": 9,
   "id": "309d93f9",
   "metadata": {},
   "outputs": [
    {
     "name": "stdout",
     "output_type": "stream",
     "text": [
      "(4321, 50)\n",
      "(4321,)\n"
     ]
    }
   ],
   "source": [
    "print(X.shape)\n",
    "print(Y.shape)"
   ]
  },
  {
   "cell_type": "markdown",
   "id": "73cf2162",
   "metadata": {},
   "source": [
    "**Split the data into train and test**"
   ]
  },
  {
   "cell_type": "code",
   "execution_count": 12,
   "id": "84362f55",
   "metadata": {},
   "outputs": [
    {
     "name": "stdout",
     "output_type": "stream",
     "text": [
      "(3456, 50) (865, 50) (3456,) (865,)\n"
     ]
    }
   ],
   "source": [
    "x_train, x_test, y_train, y_test = train_test_split(X, Y, test_size=0.2, stratify=Y)\n",
    "print(x_train.shape, x_test.shape, y_train.shape, y_test.shape)"
   ]
  },
  {
   "cell_type": "markdown",
   "id": "db0f878f",
   "metadata": {},
   "source": [
    "###  Training machine learning model"
   ]
  },
  {
   "cell_type": "code",
   "execution_count": 20,
   "id": "4de40284",
   "metadata": {},
   "outputs": [],
   "source": [
    "model_svc = SVC(probability=True)\n",
    "\n",
    "param_grid = {'C':[0.5,1,10,20,30,50],\n",
    "              'kernel':['rbf','poly'],\n",
    "              'gamma':[0.1,0.05,0.01,0.001,0.002,0.005],\n",
    "              'coef0':[0,1]\n",
    "             }"
   ]
  },
  {
   "cell_type": "code",
   "execution_count": 21,
   "id": "d057cbfd",
   "metadata": {},
   "outputs": [],
   "source": [
    "model_grid = GridSearchCV(model_svc,\n",
    "                          param_grid=param_grid,\n",
    "                          scoring='accuracy',cv=3,verbose=2)"
   ]
  },
  {
   "cell_type": "code",
   "execution_count": 22,
   "id": "00591121",
   "metadata": {},
   "outputs": [
    {
     "name": "stdout",
     "output_type": "stream",
     "text": [
      "Fitting 3 folds for each of 144 candidates, totalling 432 fits\n",
      "[CV] END ..............C=0.5, coef0=0, gamma=0.1, kernel=rbf; total time=   3.0s\n",
      "[CV] END ..............C=0.5, coef0=0, gamma=0.1, kernel=rbf; total time=   2.7s\n",
      "[CV] END ..............C=0.5, coef0=0, gamma=0.1, kernel=rbf; total time=   2.6s\n",
      "[CV] END .............C=0.5, coef0=0, gamma=0.1, kernel=poly; total time=   2.1s\n",
      "[CV] END .............C=0.5, coef0=0, gamma=0.1, kernel=poly; total time=   1.6s\n",
      "[CV] END .............C=0.5, coef0=0, gamma=0.1, kernel=poly; total time=   2.0s\n",
      "[CV] END .............C=0.5, coef0=0, gamma=0.05, kernel=rbf; total time=   2.7s\n",
      "[CV] END .............C=0.5, coef0=0, gamma=0.05, kernel=rbf; total time=   2.4s\n",
      "[CV] END .............C=0.5, coef0=0, gamma=0.05, kernel=rbf; total time=   2.5s\n",
      "[CV] END ............C=0.5, coef0=0, gamma=0.05, kernel=poly; total time=   1.9s\n",
      "[CV] END ............C=0.5, coef0=0, gamma=0.05, kernel=poly; total time=   1.3s\n",
      "[CV] END ............C=0.5, coef0=0, gamma=0.05, kernel=poly; total time=   1.7s\n",
      "[CV] END .............C=0.5, coef0=0, gamma=0.01, kernel=rbf; total time=   2.0s\n",
      "[CV] END .............C=0.5, coef0=0, gamma=0.01, kernel=rbf; total time=   2.2s\n",
      "[CV] END .............C=0.5, coef0=0, gamma=0.01, kernel=rbf; total time=   1.9s\n",
      "[CV] END ............C=0.5, coef0=0, gamma=0.01, kernel=poly; total time=   1.5s\n",
      "[CV] END ............C=0.5, coef0=0, gamma=0.01, kernel=poly; total time=   1.2s\n",
      "[CV] END ............C=0.5, coef0=0, gamma=0.01, kernel=poly; total time=   1.3s\n",
      "[CV] END ............C=0.5, coef0=0, gamma=0.001, kernel=rbf; total time=   2.1s\n",
      "[CV] END ............C=0.5, coef0=0, gamma=0.001, kernel=rbf; total time=   2.3s\n",
      "[CV] END ............C=0.5, coef0=0, gamma=0.001, kernel=rbf; total time=   2.5s\n",
      "[CV] END ...........C=0.5, coef0=0, gamma=0.001, kernel=poly; total time=   1.1s\n",
      "[CV] END ...........C=0.5, coef0=0, gamma=0.001, kernel=poly; total time=   1.3s\n",
      "[CV] END ...........C=0.5, coef0=0, gamma=0.001, kernel=poly; total time=   1.0s\n",
      "[CV] END ............C=0.5, coef0=0, gamma=0.002, kernel=rbf; total time=   2.3s\n",
      "[CV] END ............C=0.5, coef0=0, gamma=0.002, kernel=rbf; total time=   3.8s\n",
      "[CV] END ............C=0.5, coef0=0, gamma=0.002, kernel=rbf; total time=   2.4s\n",
      "[CV] END ...........C=0.5, coef0=0, gamma=0.002, kernel=poly; total time=   1.2s\n",
      "[CV] END ...........C=0.5, coef0=0, gamma=0.002, kernel=poly; total time=   1.2s\n",
      "[CV] END ...........C=0.5, coef0=0, gamma=0.002, kernel=poly; total time=   1.7s\n",
      "[CV] END ............C=0.5, coef0=0, gamma=0.005, kernel=rbf; total time=   1.9s\n",
      "[CV] END ............C=0.5, coef0=0, gamma=0.005, kernel=rbf; total time=   2.0s\n",
      "[CV] END ............C=0.5, coef0=0, gamma=0.005, kernel=rbf; total time=   2.4s\n",
      "[CV] END ...........C=0.5, coef0=0, gamma=0.005, kernel=poly; total time=   1.3s\n",
      "[CV] END ...........C=0.5, coef0=0, gamma=0.005, kernel=poly; total time=   1.4s\n",
      "[CV] END ...........C=0.5, coef0=0, gamma=0.005, kernel=poly; total time=   1.4s\n",
      "[CV] END ..............C=0.5, coef0=1, gamma=0.1, kernel=rbf; total time=   2.8s\n",
      "[CV] END ..............C=0.5, coef0=1, gamma=0.1, kernel=rbf; total time=   3.0s\n",
      "[CV] END ..............C=0.5, coef0=1, gamma=0.1, kernel=rbf; total time=   2.9s\n",
      "[CV] END .............C=0.5, coef0=1, gamma=0.1, kernel=poly; total time=   1.7s\n",
      "[CV] END .............C=0.5, coef0=1, gamma=0.1, kernel=poly; total time=   1.5s\n",
      "[CV] END .............C=0.5, coef0=1, gamma=0.1, kernel=poly; total time=   1.5s\n",
      "[CV] END .............C=0.5, coef0=1, gamma=0.05, kernel=rbf; total time=   2.8s\n",
      "[CV] END .............C=0.5, coef0=1, gamma=0.05, kernel=rbf; total time=   2.9s\n",
      "[CV] END .............C=0.5, coef0=1, gamma=0.05, kernel=rbf; total time=   2.3s\n",
      "[CV] END ............C=0.5, coef0=1, gamma=0.05, kernel=poly; total time=   1.5s\n",
      "[CV] END ............C=0.5, coef0=1, gamma=0.05, kernel=poly; total time=   1.4s\n",
      "[CV] END ............C=0.5, coef0=1, gamma=0.05, kernel=poly; total time=   1.5s\n",
      "[CV] END .............C=0.5, coef0=1, gamma=0.01, kernel=rbf; total time=   1.7s\n",
      "[CV] END .............C=0.5, coef0=1, gamma=0.01, kernel=rbf; total time=   1.9s\n",
      "[CV] END .............C=0.5, coef0=1, gamma=0.01, kernel=rbf; total time=   1.8s\n",
      "[CV] END ............C=0.5, coef0=1, gamma=0.01, kernel=poly; total time=   1.2s\n",
      "[CV] END ............C=0.5, coef0=1, gamma=0.01, kernel=poly; total time=   0.8s\n",
      "[CV] END ............C=0.5, coef0=1, gamma=0.01, kernel=poly; total time=   1.0s\n",
      "[CV] END ............C=0.5, coef0=1, gamma=0.001, kernel=rbf; total time=   2.3s\n",
      "[CV] END ............C=0.5, coef0=1, gamma=0.001, kernel=rbf; total time=   2.5s\n",
      "[CV] END ............C=0.5, coef0=1, gamma=0.001, kernel=rbf; total time=   2.5s\n",
      "[CV] END ...........C=0.5, coef0=1, gamma=0.001, kernel=poly; total time=   1.3s\n",
      "[CV] END ...........C=0.5, coef0=1, gamma=0.001, kernel=poly; total time=   1.2s\n",
      "[CV] END ...........C=0.5, coef0=1, gamma=0.001, kernel=poly; total time=   1.1s\n",
      "[CV] END ............C=0.5, coef0=1, gamma=0.002, kernel=rbf; total time=   2.2s\n",
      "[CV] END ............C=0.5, coef0=1, gamma=0.002, kernel=rbf; total time=   2.3s\n",
      "[CV] END ............C=0.5, coef0=1, gamma=0.002, kernel=rbf; total time=   2.4s\n",
      "[CV] END ...........C=0.5, coef0=1, gamma=0.002, kernel=poly; total time=   1.1s\n",
      "[CV] END ...........C=0.5, coef0=1, gamma=0.002, kernel=poly; total time=   1.1s\n",
      "[CV] END ...........C=0.5, coef0=1, gamma=0.002, kernel=poly; total time=   1.0s\n",
      "[CV] END ............C=0.5, coef0=1, gamma=0.005, kernel=rbf; total time=   1.9s\n",
      "[CV] END ............C=0.5, coef0=1, gamma=0.005, kernel=rbf; total time=   1.8s\n",
      "[CV] END ............C=0.5, coef0=1, gamma=0.005, kernel=rbf; total time=   2.3s\n",
      "[CV] END ...........C=0.5, coef0=1, gamma=0.005, kernel=poly; total time=   0.9s\n",
      "[CV] END ...........C=0.5, coef0=1, gamma=0.005, kernel=poly; total time=   0.9s\n",
      "[CV] END ...........C=0.5, coef0=1, gamma=0.005, kernel=poly; total time=   1.2s\n",
      "[CV] END ................C=1, coef0=0, gamma=0.1, kernel=rbf; total time=   3.4s\n",
      "[CV] END ................C=1, coef0=0, gamma=0.1, kernel=rbf; total time=   3.8s\n",
      "[CV] END ................C=1, coef0=0, gamma=0.1, kernel=rbf; total time=   3.1s\n",
      "[CV] END ...............C=1, coef0=0, gamma=0.1, kernel=poly; total time=   1.7s\n",
      "[CV] END ...............C=1, coef0=0, gamma=0.1, kernel=poly; total time=   2.7s\n",
      "[CV] END ...............C=1, coef0=0, gamma=0.1, kernel=poly; total time=   1.9s\n",
      "[CV] END ...............C=1, coef0=0, gamma=0.05, kernel=rbf; total time=   3.4s\n",
      "[CV] END ...............C=1, coef0=0, gamma=0.05, kernel=rbf; total time=   3.2s\n",
      "[CV] END ...............C=1, coef0=0, gamma=0.05, kernel=rbf; total time=   2.5s\n",
      "[CV] END ..............C=1, coef0=0, gamma=0.05, kernel=poly; total time=   2.0s\n",
      "[CV] END ..............C=1, coef0=0, gamma=0.05, kernel=poly; total time=   1.8s\n",
      "[CV] END ..............C=1, coef0=0, gamma=0.05, kernel=poly; total time=   1.9s\n",
      "[CV] END ...............C=1, coef0=0, gamma=0.01, kernel=rbf; total time=   2.2s\n",
      "[CV] END ...............C=1, coef0=0, gamma=0.01, kernel=rbf; total time=   2.2s\n",
      "[CV] END ...............C=1, coef0=0, gamma=0.01, kernel=rbf; total time=   1.4s\n",
      "[CV] END ..............C=1, coef0=0, gamma=0.01, kernel=poly; total time=   1.0s\n",
      "[CV] END ..............C=1, coef0=0, gamma=0.01, kernel=poly; total time=   1.1s\n",
      "[CV] END ..............C=1, coef0=0, gamma=0.01, kernel=poly; total time=   1.1s\n",
      "[CV] END ..............C=1, coef0=0, gamma=0.001, kernel=rbf; total time=   1.5s\n",
      "[CV] END ..............C=1, coef0=0, gamma=0.001, kernel=rbf; total time=   1.8s\n",
      "[CV] END ..............C=1, coef0=0, gamma=0.001, kernel=rbf; total time=   1.6s\n",
      "[CV] END .............C=1, coef0=0, gamma=0.001, kernel=poly; total time=   1.0s\n",
      "[CV] END .............C=1, coef0=0, gamma=0.001, kernel=poly; total time=   0.8s\n",
      "[CV] END .............C=1, coef0=0, gamma=0.001, kernel=poly; total time=   0.9s\n",
      "[CV] END ..............C=1, coef0=0, gamma=0.002, kernel=rbf; total time=   1.5s\n",
      "[CV] END ..............C=1, coef0=0, gamma=0.002, kernel=rbf; total time=   1.5s\n",
      "[CV] END ..............C=1, coef0=0, gamma=0.002, kernel=rbf; total time=   1.7s\n",
      "[CV] END .............C=1, coef0=0, gamma=0.002, kernel=poly; total time=   1.0s\n",
      "[CV] END .............C=1, coef0=0, gamma=0.002, kernel=poly; total time=   1.2s\n"
     ]
    },
    {
     "name": "stdout",
     "output_type": "stream",
     "text": [
      "[CV] END .............C=1, coef0=0, gamma=0.002, kernel=poly; total time=   1.0s\n",
      "[CV] END ..............C=1, coef0=0, gamma=0.005, kernel=rbf; total time=   1.4s\n",
      "[CV] END ..............C=1, coef0=0, gamma=0.005, kernel=rbf; total time=   1.4s\n",
      "[CV] END ..............C=1, coef0=0, gamma=0.005, kernel=rbf; total time=   1.3s\n",
      "[CV] END .............C=1, coef0=0, gamma=0.005, kernel=poly; total time=   1.0s\n",
      "[CV] END .............C=1, coef0=0, gamma=0.005, kernel=poly; total time=   0.9s\n",
      "[CV] END .............C=1, coef0=0, gamma=0.005, kernel=poly; total time=   0.9s\n",
      "[CV] END ................C=1, coef0=1, gamma=0.1, kernel=rbf; total time=   2.2s\n",
      "[CV] END ................C=1, coef0=1, gamma=0.1, kernel=rbf; total time=   2.2s\n",
      "[CV] END ................C=1, coef0=1, gamma=0.1, kernel=rbf; total time=   2.1s\n",
      "[CV] END ...............C=1, coef0=1, gamma=0.1, kernel=poly; total time=   1.0s\n",
      "[CV] END ...............C=1, coef0=1, gamma=0.1, kernel=poly; total time=   1.0s\n",
      "[CV] END ...............C=1, coef0=1, gamma=0.1, kernel=poly; total time=   0.9s\n",
      "[CV] END ...............C=1, coef0=1, gamma=0.05, kernel=rbf; total time=   1.9s\n",
      "[CV] END ...............C=1, coef0=1, gamma=0.05, kernel=rbf; total time=   2.1s\n",
      "[CV] END ...............C=1, coef0=1, gamma=0.05, kernel=rbf; total time=   1.9s\n",
      "[CV] END ..............C=1, coef0=1, gamma=0.05, kernel=poly; total time=   1.1s\n",
      "[CV] END ..............C=1, coef0=1, gamma=0.05, kernel=poly; total time=   1.1s\n",
      "[CV] END ..............C=1, coef0=1, gamma=0.05, kernel=poly; total time=   1.4s\n",
      "[CV] END ...............C=1, coef0=1, gamma=0.01, kernel=rbf; total time=   1.5s\n",
      "[CV] END ...............C=1, coef0=1, gamma=0.01, kernel=rbf; total time=   1.5s\n",
      "[CV] END ...............C=1, coef0=1, gamma=0.01, kernel=rbf; total time=   1.4s\n",
      "[CV] END ..............C=1, coef0=1, gamma=0.01, kernel=poly; total time=   0.9s\n",
      "[CV] END ..............C=1, coef0=1, gamma=0.01, kernel=poly; total time=   0.9s\n",
      "[CV] END ..............C=1, coef0=1, gamma=0.01, kernel=poly; total time=   0.7s\n",
      "[CV] END ..............C=1, coef0=1, gamma=0.001, kernel=rbf; total time=   1.8s\n",
      "[CV] END ..............C=1, coef0=1, gamma=0.001, kernel=rbf; total time=   1.8s\n",
      "[CV] END ..............C=1, coef0=1, gamma=0.001, kernel=rbf; total time=   1.8s\n",
      "[CV] END .............C=1, coef0=1, gamma=0.001, kernel=poly; total time=   0.8s\n",
      "[CV] END .............C=1, coef0=1, gamma=0.001, kernel=poly; total time=   0.6s\n",
      "[CV] END .............C=1, coef0=1, gamma=0.001, kernel=poly; total time=   0.9s\n",
      "[CV] END ..............C=1, coef0=1, gamma=0.002, kernel=rbf; total time=   1.4s\n",
      "[CV] END ..............C=1, coef0=1, gamma=0.002, kernel=rbf; total time=   1.6s\n",
      "[CV] END ..............C=1, coef0=1, gamma=0.002, kernel=rbf; total time=   1.9s\n",
      "[CV] END .............C=1, coef0=1, gamma=0.002, kernel=poly; total time=   0.7s\n",
      "[CV] END .............C=1, coef0=1, gamma=0.002, kernel=poly; total time=   1.1s\n",
      "[CV] END .............C=1, coef0=1, gamma=0.002, kernel=poly; total time=   0.7s\n",
      "[CV] END ..............C=1, coef0=1, gamma=0.005, kernel=rbf; total time=   1.5s\n",
      "[CV] END ..............C=1, coef0=1, gamma=0.005, kernel=rbf; total time=   1.5s\n",
      "[CV] END ..............C=1, coef0=1, gamma=0.005, kernel=rbf; total time=   1.8s\n",
      "[CV] END .............C=1, coef0=1, gamma=0.005, kernel=poly; total time=   0.7s\n",
      "[CV] END .............C=1, coef0=1, gamma=0.005, kernel=poly; total time=   0.9s\n",
      "[CV] END .............C=1, coef0=1, gamma=0.005, kernel=poly; total time=   0.9s\n",
      "[CV] END ...............C=10, coef0=0, gamma=0.1, kernel=rbf; total time=   2.3s\n",
      "[CV] END ...............C=10, coef0=0, gamma=0.1, kernel=rbf; total time=   2.3s\n",
      "[CV] END ...............C=10, coef0=0, gamma=0.1, kernel=rbf; total time=   2.3s\n",
      "[CV] END ..............C=10, coef0=0, gamma=0.1, kernel=poly; total time=   1.7s\n",
      "[CV] END ..............C=10, coef0=0, gamma=0.1, kernel=poly; total time=   1.9s\n",
      "[CV] END ..............C=10, coef0=0, gamma=0.1, kernel=poly; total time=   1.4s\n",
      "[CV] END ..............C=10, coef0=0, gamma=0.05, kernel=rbf; total time=   2.5s\n",
      "[CV] END ..............C=10, coef0=0, gamma=0.05, kernel=rbf; total time=   3.1s\n",
      "[CV] END ..............C=10, coef0=0, gamma=0.05, kernel=rbf; total time=   2.5s\n",
      "[CV] END .............C=10, coef0=0, gamma=0.05, kernel=poly; total time=   1.6s\n",
      "[CV] END .............C=10, coef0=0, gamma=0.05, kernel=poly; total time=   1.4s\n",
      "[CV] END .............C=10, coef0=0, gamma=0.05, kernel=poly; total time=   1.4s\n",
      "[CV] END ..............C=10, coef0=0, gamma=0.01, kernel=rbf; total time=   1.7s\n",
      "[CV] END ..............C=10, coef0=0, gamma=0.01, kernel=rbf; total time=   1.9s\n",
      "[CV] END ..............C=10, coef0=0, gamma=0.01, kernel=rbf; total time=   1.9s\n",
      "[CV] END .............C=10, coef0=0, gamma=0.01, kernel=poly; total time=   1.1s\n",
      "[CV] END .............C=10, coef0=0, gamma=0.01, kernel=poly; total time=   1.0s\n",
      "[CV] END .............C=10, coef0=0, gamma=0.01, kernel=poly; total time=   1.2s\n",
      "[CV] END .............C=10, coef0=0, gamma=0.001, kernel=rbf; total time=   1.3s\n",
      "[CV] END .............C=10, coef0=0, gamma=0.001, kernel=rbf; total time=   1.4s\n",
      "[CV] END .............C=10, coef0=0, gamma=0.001, kernel=rbf; total time=   1.2s\n",
      "[CV] END ............C=10, coef0=0, gamma=0.001, kernel=poly; total time=   0.9s\n",
      "[CV] END ............C=10, coef0=0, gamma=0.001, kernel=poly; total time=   1.0s\n",
      "[CV] END ............C=10, coef0=0, gamma=0.001, kernel=poly; total time=   1.0s\n",
      "[CV] END .............C=10, coef0=0, gamma=0.002, kernel=rbf; total time=   1.3s\n",
      "[CV] END .............C=10, coef0=0, gamma=0.002, kernel=rbf; total time=   1.4s\n",
      "[CV] END .............C=10, coef0=0, gamma=0.002, kernel=rbf; total time=   1.3s\n",
      "[CV] END ............C=10, coef0=0, gamma=0.002, kernel=poly; total time=   1.3s\n",
      "[CV] END ............C=10, coef0=0, gamma=0.002, kernel=poly; total time=   0.8s\n",
      "[CV] END ............C=10, coef0=0, gamma=0.002, kernel=poly; total time=   1.0s\n",
      "[CV] END .............C=10, coef0=0, gamma=0.005, kernel=rbf; total time=   1.6s\n",
      "[CV] END .............C=10, coef0=0, gamma=0.005, kernel=rbf; total time=   1.3s\n",
      "[CV] END .............C=10, coef0=0, gamma=0.005, kernel=rbf; total time=   1.7s\n",
      "[CV] END ............C=10, coef0=0, gamma=0.005, kernel=poly; total time=   0.9s\n",
      "[CV] END ............C=10, coef0=0, gamma=0.005, kernel=poly; total time=   1.1s\n",
      "[CV] END ............C=10, coef0=0, gamma=0.005, kernel=poly; total time=   1.1s\n",
      "[CV] END ...............C=10, coef0=1, gamma=0.1, kernel=rbf; total time=   2.2s\n",
      "[CV] END ...............C=10, coef0=1, gamma=0.1, kernel=rbf; total time=   2.0s\n",
      "[CV] END ...............C=10, coef0=1, gamma=0.1, kernel=rbf; total time=   2.1s\n",
      "[CV] END ..............C=10, coef0=1, gamma=0.1, kernel=poly; total time=   1.2s\n",
      "[CV] END ..............C=10, coef0=1, gamma=0.1, kernel=poly; total time=   1.1s\n",
      "[CV] END ..............C=10, coef0=1, gamma=0.1, kernel=poly; total time=   1.0s\n",
      "[CV] END ..............C=10, coef0=1, gamma=0.05, kernel=rbf; total time=   2.2s\n",
      "[CV] END ..............C=10, coef0=1, gamma=0.05, kernel=rbf; total time=   2.2s\n",
      "[CV] END ..............C=10, coef0=1, gamma=0.05, kernel=rbf; total time=   2.1s\n",
      "[CV] END .............C=10, coef0=1, gamma=0.05, kernel=poly; total time=   1.3s\n",
      "[CV] END .............C=10, coef0=1, gamma=0.05, kernel=poly; total time=   1.1s\n",
      "[CV] END .............C=10, coef0=1, gamma=0.05, kernel=poly; total time=   1.1s\n",
      "[CV] END ..............C=10, coef0=1, gamma=0.01, kernel=rbf; total time=   1.7s\n",
      "[CV] END ..............C=10, coef0=1, gamma=0.01, kernel=rbf; total time=   1.6s\n",
      "[CV] END ..............C=10, coef0=1, gamma=0.01, kernel=rbf; total time=   1.6s\n",
      "[CV] END .............C=10, coef0=1, gamma=0.01, kernel=poly; total time=   1.4s\n",
      "[CV] END .............C=10, coef0=1, gamma=0.01, kernel=poly; total time=   1.5s\n",
      "[CV] END .............C=10, coef0=1, gamma=0.01, kernel=poly; total time=   1.1s\n",
      "[CV] END .............C=10, coef0=1, gamma=0.001, kernel=rbf; total time=   1.7s\n",
      "[CV] END .............C=10, coef0=1, gamma=0.001, kernel=rbf; total time=   1.4s\n",
      "[CV] END .............C=10, coef0=1, gamma=0.001, kernel=rbf; total time=   1.2s\n",
      "[CV] END ............C=10, coef0=1, gamma=0.001, kernel=poly; total time=   1.0s\n",
      "[CV] END ............C=10, coef0=1, gamma=0.001, kernel=poly; total time=   0.9s\n"
     ]
    },
    {
     "name": "stdout",
     "output_type": "stream",
     "text": [
      "[CV] END ............C=10, coef0=1, gamma=0.001, kernel=poly; total time=   0.7s\n",
      "[CV] END .............C=10, coef0=1, gamma=0.002, kernel=rbf; total time=   1.4s\n",
      "[CV] END .............C=10, coef0=1, gamma=0.002, kernel=rbf; total time=   1.3s\n",
      "[CV] END .............C=10, coef0=1, gamma=0.002, kernel=rbf; total time=   1.3s\n",
      "[CV] END ............C=10, coef0=1, gamma=0.002, kernel=poly; total time=   1.0s\n",
      "[CV] END ............C=10, coef0=1, gamma=0.002, kernel=poly; total time=   0.8s\n",
      "[CV] END ............C=10, coef0=1, gamma=0.002, kernel=poly; total time=   0.9s\n",
      "[CV] END .............C=10, coef0=1, gamma=0.005, kernel=rbf; total time=   1.6s\n",
      "[CV] END .............C=10, coef0=1, gamma=0.005, kernel=rbf; total time=   1.4s\n",
      "[CV] END .............C=10, coef0=1, gamma=0.005, kernel=rbf; total time=   1.6s\n",
      "[CV] END ............C=10, coef0=1, gamma=0.005, kernel=poly; total time=   1.1s\n",
      "[CV] END ............C=10, coef0=1, gamma=0.005, kernel=poly; total time=   1.1s\n",
      "[CV] END ............C=10, coef0=1, gamma=0.005, kernel=poly; total time=   1.1s\n",
      "[CV] END ...............C=20, coef0=0, gamma=0.1, kernel=rbf; total time=   2.2s\n",
      "[CV] END ...............C=20, coef0=0, gamma=0.1, kernel=rbf; total time=   2.2s\n",
      "[CV] END ...............C=20, coef0=0, gamma=0.1, kernel=rbf; total time=   2.2s\n",
      "[CV] END ..............C=20, coef0=0, gamma=0.1, kernel=poly; total time=   1.2s\n",
      "[CV] END ..............C=20, coef0=0, gamma=0.1, kernel=poly; total time=   1.4s\n",
      "[CV] END ..............C=20, coef0=0, gamma=0.1, kernel=poly; total time=   1.3s\n",
      "[CV] END ..............C=20, coef0=0, gamma=0.05, kernel=rbf; total time=   1.9s\n",
      "[CV] END ..............C=20, coef0=0, gamma=0.05, kernel=rbf; total time=   2.0s\n",
      "[CV] END ..............C=20, coef0=0, gamma=0.05, kernel=rbf; total time=   2.0s\n",
      "[CV] END .............C=20, coef0=0, gamma=0.05, kernel=poly; total time=   1.2s\n",
      "[CV] END .............C=20, coef0=0, gamma=0.05, kernel=poly; total time=   1.4s\n",
      "[CV] END .............C=20, coef0=0, gamma=0.05, kernel=poly; total time=   1.4s\n",
      "[CV] END ..............C=20, coef0=0, gamma=0.01, kernel=rbf; total time=   1.9s\n",
      "[CV] END ..............C=20, coef0=0, gamma=0.01, kernel=rbf; total time=   2.0s\n",
      "[CV] END ..............C=20, coef0=0, gamma=0.01, kernel=rbf; total time=   2.0s\n",
      "[CV] END .............C=20, coef0=0, gamma=0.01, kernel=poly; total time=   1.0s\n",
      "[CV] END .............C=20, coef0=0, gamma=0.01, kernel=poly; total time=   1.1s\n",
      "[CV] END .............C=20, coef0=0, gamma=0.01, kernel=poly; total time=   1.1s\n",
      "[CV] END .............C=20, coef0=0, gamma=0.001, kernel=rbf; total time=   1.4s\n",
      "[CV] END .............C=20, coef0=0, gamma=0.001, kernel=rbf; total time=   1.8s\n",
      "[CV] END .............C=20, coef0=0, gamma=0.001, kernel=rbf; total time=   1.2s\n",
      "[CV] END ............C=20, coef0=0, gamma=0.001, kernel=poly; total time=   1.0s\n",
      "[CV] END ............C=20, coef0=0, gamma=0.001, kernel=poly; total time=   1.1s\n",
      "[CV] END ............C=20, coef0=0, gamma=0.001, kernel=poly; total time=   1.0s\n",
      "[CV] END .............C=20, coef0=0, gamma=0.002, kernel=rbf; total time=   1.5s\n",
      "[CV] END .............C=20, coef0=0, gamma=0.002, kernel=rbf; total time=   1.2s\n",
      "[CV] END .............C=20, coef0=0, gamma=0.002, kernel=rbf; total time=   1.4s\n",
      "[CV] END ............C=20, coef0=0, gamma=0.002, kernel=poly; total time=   0.9s\n",
      "[CV] END ............C=20, coef0=0, gamma=0.002, kernel=poly; total time=   1.0s\n",
      "[CV] END ............C=20, coef0=0, gamma=0.002, kernel=poly; total time=   1.2s\n",
      "[CV] END .............C=20, coef0=0, gamma=0.005, kernel=rbf; total time=   1.4s\n",
      "[CV] END .............C=20, coef0=0, gamma=0.005, kernel=rbf; total time=   1.8s\n",
      "[CV] END .............C=20, coef0=0, gamma=0.005, kernel=rbf; total time=   1.6s\n",
      "[CV] END ............C=20, coef0=0, gamma=0.005, kernel=poly; total time=   1.2s\n",
      "[CV] END ............C=20, coef0=0, gamma=0.005, kernel=poly; total time=   0.9s\n",
      "[CV] END ............C=20, coef0=0, gamma=0.005, kernel=poly; total time=   1.0s\n",
      "[CV] END ...............C=20, coef0=1, gamma=0.1, kernel=rbf; total time=   2.1s\n",
      "[CV] END ...............C=20, coef0=1, gamma=0.1, kernel=rbf; total time=   2.1s\n",
      "[CV] END ...............C=20, coef0=1, gamma=0.1, kernel=rbf; total time=   2.0s\n",
      "[CV] END ..............C=20, coef0=1, gamma=0.1, kernel=poly; total time=   0.9s\n",
      "[CV] END ..............C=20, coef0=1, gamma=0.1, kernel=poly; total time=   1.1s\n",
      "[CV] END ..............C=20, coef0=1, gamma=0.1, kernel=poly; total time=   1.2s\n",
      "[CV] END ..............C=20, coef0=1, gamma=0.05, kernel=rbf; total time=   2.0s\n",
      "[CV] END ..............C=20, coef0=1, gamma=0.05, kernel=rbf; total time=   2.0s\n",
      "[CV] END ..............C=20, coef0=1, gamma=0.05, kernel=rbf; total time=   2.3s\n",
      "[CV] END .............C=20, coef0=1, gamma=0.05, kernel=poly; total time=   0.9s\n",
      "[CV] END .............C=20, coef0=1, gamma=0.05, kernel=poly; total time=   1.0s\n",
      "[CV] END .............C=20, coef0=1, gamma=0.05, kernel=poly; total time=   1.0s\n",
      "[CV] END ..............C=20, coef0=1, gamma=0.01, kernel=rbf; total time=   1.9s\n",
      "[CV] END ..............C=20, coef0=1, gamma=0.01, kernel=rbf; total time=   2.0s\n",
      "[CV] END ..............C=20, coef0=1, gamma=0.01, kernel=rbf; total time=   1.8s\n",
      "[CV] END .............C=20, coef0=1, gamma=0.01, kernel=poly; total time=   1.4s\n",
      "[CV] END .............C=20, coef0=1, gamma=0.01, kernel=poly; total time=   1.6s\n",
      "[CV] END .............C=20, coef0=1, gamma=0.01, kernel=poly; total time=   1.3s\n",
      "[CV] END .............C=20, coef0=1, gamma=0.001, kernel=rbf; total time=   1.2s\n",
      "[CV] END .............C=20, coef0=1, gamma=0.001, kernel=rbf; total time=   1.3s\n",
      "[CV] END .............C=20, coef0=1, gamma=0.001, kernel=rbf; total time=   1.6s\n",
      "[CV] END ............C=20, coef0=1, gamma=0.001, kernel=poly; total time=   0.8s\n",
      "[CV] END ............C=20, coef0=1, gamma=0.001, kernel=poly; total time=   0.8s\n",
      "[CV] END ............C=20, coef0=1, gamma=0.001, kernel=poly; total time=   0.8s\n",
      "[CV] END .............C=20, coef0=1, gamma=0.002, kernel=rbf; total time=   1.4s\n",
      "[CV] END .............C=20, coef0=1, gamma=0.002, kernel=rbf; total time=   1.6s\n",
      "[CV] END .............C=20, coef0=1, gamma=0.002, kernel=rbf; total time=   1.3s\n",
      "[CV] END ............C=20, coef0=1, gamma=0.002, kernel=poly; total time=   1.0s\n",
      "[CV] END ............C=20, coef0=1, gamma=0.002, kernel=poly; total time=   1.0s\n",
      "[CV] END ............C=20, coef0=1, gamma=0.002, kernel=poly; total time=   0.9s\n",
      "[CV] END .............C=20, coef0=1, gamma=0.005, kernel=rbf; total time=   1.8s\n",
      "[CV] END .............C=20, coef0=1, gamma=0.005, kernel=rbf; total time=   1.7s\n",
      "[CV] END .............C=20, coef0=1, gamma=0.005, kernel=rbf; total time=   1.6s\n",
      "[CV] END ............C=20, coef0=1, gamma=0.005, kernel=poly; total time=   1.4s\n",
      "[CV] END ............C=20, coef0=1, gamma=0.005, kernel=poly; total time=   1.4s\n",
      "[CV] END ............C=20, coef0=1, gamma=0.005, kernel=poly; total time=   1.4s\n",
      "[CV] END ...............C=30, coef0=0, gamma=0.1, kernel=rbf; total time=   1.9s\n",
      "[CV] END ...............C=30, coef0=0, gamma=0.1, kernel=rbf; total time=   2.2s\n",
      "[CV] END ...............C=30, coef0=0, gamma=0.1, kernel=rbf; total time=   2.1s\n",
      "[CV] END ..............C=30, coef0=0, gamma=0.1, kernel=poly; total time=   1.3s\n",
      "[CV] END ..............C=30, coef0=0, gamma=0.1, kernel=poly; total time=   1.3s\n",
      "[CV] END ..............C=30, coef0=0, gamma=0.1, kernel=poly; total time=   1.2s\n",
      "[CV] END ..............C=30, coef0=0, gamma=0.05, kernel=rbf; total time=   2.0s\n",
      "[CV] END ..............C=30, coef0=0, gamma=0.05, kernel=rbf; total time=   2.1s\n",
      "[CV] END ..............C=30, coef0=0, gamma=0.05, kernel=rbf; total time=   2.4s\n",
      "[CV] END .............C=30, coef0=0, gamma=0.05, kernel=poly; total time=   1.5s\n",
      "[CV] END .............C=30, coef0=0, gamma=0.05, kernel=poly; total time=   1.1s\n",
      "[CV] END .............C=30, coef0=0, gamma=0.05, kernel=poly; total time=   1.2s\n",
      "[CV] END ..............C=30, coef0=0, gamma=0.01, kernel=rbf; total time=   1.8s\n",
      "[CV] END ..............C=30, coef0=0, gamma=0.01, kernel=rbf; total time=   2.1s\n",
      "[CV] END ..............C=30, coef0=0, gamma=0.01, kernel=rbf; total time=   1.9s\n",
      "[CV] END .............C=30, coef0=0, gamma=0.01, kernel=poly; total time=   1.1s\n",
      "[CV] END .............C=30, coef0=0, gamma=0.01, kernel=poly; total time=   1.4s\n"
     ]
    },
    {
     "name": "stdout",
     "output_type": "stream",
     "text": [
      "[CV] END .............C=30, coef0=0, gamma=0.01, kernel=poly; total time=   1.1s\n",
      "[CV] END .............C=30, coef0=0, gamma=0.001, kernel=rbf; total time=   1.4s\n",
      "[CV] END .............C=30, coef0=0, gamma=0.001, kernel=rbf; total time=   1.3s\n",
      "[CV] END .............C=30, coef0=0, gamma=0.001, kernel=rbf; total time=   1.4s\n",
      "[CV] END ............C=30, coef0=0, gamma=0.001, kernel=poly; total time=   1.1s\n",
      "[CV] END ............C=30, coef0=0, gamma=0.001, kernel=poly; total time=   1.0s\n",
      "[CV] END ............C=30, coef0=0, gamma=0.001, kernel=poly; total time=   1.2s\n",
      "[CV] END .............C=30, coef0=0, gamma=0.002, kernel=rbf; total time=   1.7s\n",
      "[CV] END .............C=30, coef0=0, gamma=0.002, kernel=rbf; total time=   1.6s\n",
      "[CV] END .............C=30, coef0=0, gamma=0.002, kernel=rbf; total time=   1.6s\n",
      "[CV] END ............C=30, coef0=0, gamma=0.002, kernel=poly; total time=   0.9s\n",
      "[CV] END ............C=30, coef0=0, gamma=0.002, kernel=poly; total time=   0.9s\n",
      "[CV] END ............C=30, coef0=0, gamma=0.002, kernel=poly; total time=   1.1s\n",
      "[CV] END .............C=30, coef0=0, gamma=0.005, kernel=rbf; total time=   1.9s\n",
      "[CV] END .............C=30, coef0=0, gamma=0.005, kernel=rbf; total time=   1.7s\n",
      "[CV] END .............C=30, coef0=0, gamma=0.005, kernel=rbf; total time=   1.9s\n",
      "[CV] END ............C=30, coef0=0, gamma=0.005, kernel=poly; total time=   1.0s\n",
      "[CV] END ............C=30, coef0=0, gamma=0.005, kernel=poly; total time=   1.1s\n",
      "[CV] END ............C=30, coef0=0, gamma=0.005, kernel=poly; total time=   1.3s\n",
      "[CV] END ...............C=30, coef0=1, gamma=0.1, kernel=rbf; total time=   2.1s\n",
      "[CV] END ...............C=30, coef0=1, gamma=0.1, kernel=rbf; total time=   2.0s\n",
      "[CV] END ...............C=30, coef0=1, gamma=0.1, kernel=rbf; total time=   1.9s\n",
      "[CV] END ..............C=30, coef0=1, gamma=0.1, kernel=poly; total time=   1.0s\n",
      "[CV] END ..............C=30, coef0=1, gamma=0.1, kernel=poly; total time=   1.0s\n",
      "[CV] END ..............C=30, coef0=1, gamma=0.1, kernel=poly; total time=   1.1s\n",
      "[CV] END ..............C=30, coef0=1, gamma=0.05, kernel=rbf; total time=   2.1s\n",
      "[CV] END ..............C=30, coef0=1, gamma=0.05, kernel=rbf; total time=   2.0s\n",
      "[CV] END ..............C=30, coef0=1, gamma=0.05, kernel=rbf; total time=   1.9s\n",
      "[CV] END .............C=30, coef0=1, gamma=0.05, kernel=poly; total time=   1.1s\n",
      "[CV] END .............C=30, coef0=1, gamma=0.05, kernel=poly; total time=   1.1s\n",
      "[CV] END .............C=30, coef0=1, gamma=0.05, kernel=poly; total time=   0.9s\n",
      "[CV] END ..............C=30, coef0=1, gamma=0.01, kernel=rbf; total time=   2.1s\n",
      "[CV] END ..............C=30, coef0=1, gamma=0.01, kernel=rbf; total time=   2.1s\n",
      "[CV] END ..............C=30, coef0=1, gamma=0.01, kernel=rbf; total time=   1.9s\n",
      "[CV] END .............C=30, coef0=1, gamma=0.01, kernel=poly; total time=   1.6s\n",
      "[CV] END .............C=30, coef0=1, gamma=0.01, kernel=poly; total time=   1.7s\n",
      "[CV] END .............C=30, coef0=1, gamma=0.01, kernel=poly; total time=   1.6s\n",
      "[CV] END .............C=30, coef0=1, gamma=0.001, kernel=rbf; total time=   1.5s\n",
      "[CV] END .............C=30, coef0=1, gamma=0.001, kernel=rbf; total time=   1.2s\n",
      "[CV] END .............C=30, coef0=1, gamma=0.001, kernel=rbf; total time=   1.4s\n",
      "[CV] END ............C=30, coef0=1, gamma=0.001, kernel=poly; total time=   1.1s\n",
      "[CV] END ............C=30, coef0=1, gamma=0.001, kernel=poly; total time=   0.8s\n",
      "[CV] END ............C=30, coef0=1, gamma=0.001, kernel=poly; total time=   0.9s\n",
      "[CV] END .............C=30, coef0=1, gamma=0.002, kernel=rbf; total time=   1.5s\n",
      "[CV] END .............C=30, coef0=1, gamma=0.002, kernel=rbf; total time=   1.7s\n",
      "[CV] END .............C=30, coef0=1, gamma=0.002, kernel=rbf; total time=   1.5s\n",
      "[CV] END ............C=30, coef0=1, gamma=0.002, kernel=poly; total time=   1.3s\n",
      "[CV] END ............C=30, coef0=1, gamma=0.002, kernel=poly; total time=   1.1s\n",
      "[CV] END ............C=30, coef0=1, gamma=0.002, kernel=poly; total time=   1.3s\n",
      "[CV] END .............C=30, coef0=1, gamma=0.005, kernel=rbf; total time=   1.6s\n",
      "[CV] END .............C=30, coef0=1, gamma=0.005, kernel=rbf; total time=   1.8s\n",
      "[CV] END .............C=30, coef0=1, gamma=0.005, kernel=rbf; total time=   1.7s\n",
      "[CV] END ............C=30, coef0=1, gamma=0.005, kernel=poly; total time=   1.7s\n",
      "[CV] END ............C=30, coef0=1, gamma=0.005, kernel=poly; total time=   1.8s\n",
      "[CV] END ............C=30, coef0=1, gamma=0.005, kernel=poly; total time=   1.6s\n",
      "[CV] END ...............C=50, coef0=0, gamma=0.1, kernel=rbf; total time=   1.9s\n",
      "[CV] END ...............C=50, coef0=0, gamma=0.1, kernel=rbf; total time=   2.2s\n",
      "[CV] END ...............C=50, coef0=0, gamma=0.1, kernel=rbf; total time=   2.1s\n",
      "[CV] END ..............C=50, coef0=0, gamma=0.1, kernel=poly; total time=   1.2s\n",
      "[CV] END ..............C=50, coef0=0, gamma=0.1, kernel=poly; total time=   1.3s\n",
      "[CV] END ..............C=50, coef0=0, gamma=0.1, kernel=poly; total time=   1.5s\n",
      "[CV] END ..............C=50, coef0=0, gamma=0.05, kernel=rbf; total time=   1.9s\n",
      "[CV] END ..............C=50, coef0=0, gamma=0.05, kernel=rbf; total time=   2.0s\n",
      "[CV] END ..............C=50, coef0=0, gamma=0.05, kernel=rbf; total time=   2.2s\n",
      "[CV] END .............C=50, coef0=0, gamma=0.05, kernel=poly; total time=   1.2s\n",
      "[CV] END .............C=50, coef0=0, gamma=0.05, kernel=poly; total time=   1.3s\n",
      "[CV] END .............C=50, coef0=0, gamma=0.05, kernel=poly; total time=   1.2s\n",
      "[CV] END ..............C=50, coef0=0, gamma=0.01, kernel=rbf; total time=   2.2s\n",
      "[CV] END ..............C=50, coef0=0, gamma=0.01, kernel=rbf; total time=   2.1s\n",
      "[CV] END ..............C=50, coef0=0, gamma=0.01, kernel=rbf; total time=   2.1s\n",
      "[CV] END .............C=50, coef0=0, gamma=0.01, kernel=poly; total time=   1.3s\n",
      "[CV] END .............C=50, coef0=0, gamma=0.01, kernel=poly; total time=   0.8s\n",
      "[CV] END .............C=50, coef0=0, gamma=0.01, kernel=poly; total time=   1.2s\n",
      "[CV] END .............C=50, coef0=0, gamma=0.001, kernel=rbf; total time=   1.4s\n",
      "[CV] END .............C=50, coef0=0, gamma=0.001, kernel=rbf; total time=   1.5s\n",
      "[CV] END .............C=50, coef0=0, gamma=0.001, kernel=rbf; total time=   1.5s\n",
      "[CV] END ............C=50, coef0=0, gamma=0.001, kernel=poly; total time=   0.9s\n",
      "[CV] END ............C=50, coef0=0, gamma=0.001, kernel=poly; total time=   0.9s\n",
      "[CV] END ............C=50, coef0=0, gamma=0.001, kernel=poly; total time=   0.9s\n",
      "[CV] END .............C=50, coef0=0, gamma=0.002, kernel=rbf; total time=   1.8s\n",
      "[CV] END .............C=50, coef0=0, gamma=0.002, kernel=rbf; total time=   1.7s\n",
      "[CV] END .............C=50, coef0=0, gamma=0.002, kernel=rbf; total time=   1.5s\n",
      "[CV] END ............C=50, coef0=0, gamma=0.002, kernel=poly; total time=   1.0s\n",
      "[CV] END ............C=50, coef0=0, gamma=0.002, kernel=poly; total time=   1.1s\n",
      "[CV] END ............C=50, coef0=0, gamma=0.002, kernel=poly; total time=   1.0s\n",
      "[CV] END .............C=50, coef0=0, gamma=0.005, kernel=rbf; total time=   1.9s\n",
      "[CV] END .............C=50, coef0=0, gamma=0.005, kernel=rbf; total time=   1.9s\n",
      "[CV] END .............C=50, coef0=0, gamma=0.005, kernel=rbf; total time=   2.2s\n",
      "[CV] END ............C=50, coef0=0, gamma=0.005, kernel=poly; total time=   1.0s\n",
      "[CV] END ............C=50, coef0=0, gamma=0.005, kernel=poly; total time=   1.1s\n",
      "[CV] END ............C=50, coef0=0, gamma=0.005, kernel=poly; total time=   1.1s\n",
      "[CV] END ...............C=50, coef0=1, gamma=0.1, kernel=rbf; total time=   2.2s\n",
      "[CV] END ...............C=50, coef0=1, gamma=0.1, kernel=rbf; total time=   2.0s\n",
      "[CV] END ...............C=50, coef0=1, gamma=0.1, kernel=rbf; total time=   2.1s\n",
      "[CV] END ..............C=50, coef0=1, gamma=0.1, kernel=poly; total time=   1.1s\n",
      "[CV] END ..............C=50, coef0=1, gamma=0.1, kernel=poly; total time=   1.0s\n",
      "[CV] END ..............C=50, coef0=1, gamma=0.1, kernel=poly; total time=   1.0s\n",
      "[CV] END ..............C=50, coef0=1, gamma=0.05, kernel=rbf; total time=   1.9s\n",
      "[CV] END ..............C=50, coef0=1, gamma=0.05, kernel=rbf; total time=   2.1s\n",
      "[CV] END ..............C=50, coef0=1, gamma=0.05, kernel=rbf; total time=   2.0s\n",
      "[CV] END .............C=50, coef0=1, gamma=0.05, kernel=poly; total time=   1.1s\n",
      "[CV] END .............C=50, coef0=1, gamma=0.05, kernel=poly; total time=   0.9s\n"
     ]
    },
    {
     "name": "stdout",
     "output_type": "stream",
     "text": [
      "[CV] END .............C=50, coef0=1, gamma=0.05, kernel=poly; total time=   1.1s\n",
      "[CV] END ..............C=50, coef0=1, gamma=0.01, kernel=rbf; total time=   2.1s\n",
      "[CV] END ..............C=50, coef0=1, gamma=0.01, kernel=rbf; total time=   2.1s\n",
      "[CV] END ..............C=50, coef0=1, gamma=0.01, kernel=rbf; total time=   1.9s\n",
      "[CV] END .............C=50, coef0=1, gamma=0.01, kernel=poly; total time=   1.7s\n",
      "[CV] END .............C=50, coef0=1, gamma=0.01, kernel=poly; total time=   1.4s\n",
      "[CV] END .............C=50, coef0=1, gamma=0.01, kernel=poly; total time=   1.7s\n",
      "[CV] END .............C=50, coef0=1, gamma=0.001, kernel=rbf; total time=   1.4s\n",
      "[CV] END .............C=50, coef0=1, gamma=0.001, kernel=rbf; total time=   1.6s\n",
      "[CV] END .............C=50, coef0=1, gamma=0.001, kernel=rbf; total time=   1.5s\n",
      "[CV] END ............C=50, coef0=1, gamma=0.001, kernel=poly; total time=   1.1s\n",
      "[CV] END ............C=50, coef0=1, gamma=0.001, kernel=poly; total time=   1.1s\n",
      "[CV] END ............C=50, coef0=1, gamma=0.001, kernel=poly; total time=   1.0s\n",
      "[CV] END .............C=50, coef0=1, gamma=0.002, kernel=rbf; total time=   1.7s\n",
      "[CV] END .............C=50, coef0=1, gamma=0.002, kernel=rbf; total time=   1.7s\n",
      "[CV] END .............C=50, coef0=1, gamma=0.002, kernel=rbf; total time=   1.6s\n",
      "[CV] END ............C=50, coef0=1, gamma=0.002, kernel=poly; total time=   1.6s\n",
      "[CV] END ............C=50, coef0=1, gamma=0.002, kernel=poly; total time=   1.3s\n",
      "[CV] END ............C=50, coef0=1, gamma=0.002, kernel=poly; total time=   1.5s\n",
      "[CV] END .............C=50, coef0=1, gamma=0.005, kernel=rbf; total time=   1.9s\n",
      "[CV] END .............C=50, coef0=1, gamma=0.005, kernel=rbf; total time=   2.1s\n",
      "[CV] END .............C=50, coef0=1, gamma=0.005, kernel=rbf; total time=   2.1s\n",
      "[CV] END ............C=50, coef0=1, gamma=0.005, kernel=poly; total time=   2.0s\n",
      "[CV] END ............C=50, coef0=1, gamma=0.005, kernel=poly; total time=   2.1s\n",
      "[CV] END ............C=50, coef0=1, gamma=0.005, kernel=poly; total time=   2.0s\n"
     ]
    },
    {
     "data": {
      "text/html": [
       "<style>#sk-container-id-1 {color: black;}#sk-container-id-1 pre{padding: 0;}#sk-container-id-1 div.sk-toggleable {background-color: white;}#sk-container-id-1 label.sk-toggleable__label {cursor: pointer;display: block;width: 100%;margin-bottom: 0;padding: 0.3em;box-sizing: border-box;text-align: center;}#sk-container-id-1 label.sk-toggleable__label-arrow:before {content: \"▸\";float: left;margin-right: 0.25em;color: #696969;}#sk-container-id-1 label.sk-toggleable__label-arrow:hover:before {color: black;}#sk-container-id-1 div.sk-estimator:hover label.sk-toggleable__label-arrow:before {color: black;}#sk-container-id-1 div.sk-toggleable__content {max-height: 0;max-width: 0;overflow: hidden;text-align: left;background-color: #f0f8ff;}#sk-container-id-1 div.sk-toggleable__content pre {margin: 0.2em;color: black;border-radius: 0.25em;background-color: #f0f8ff;}#sk-container-id-1 input.sk-toggleable__control:checked~div.sk-toggleable__content {max-height: 200px;max-width: 100%;overflow: auto;}#sk-container-id-1 input.sk-toggleable__control:checked~label.sk-toggleable__label-arrow:before {content: \"▾\";}#sk-container-id-1 div.sk-estimator input.sk-toggleable__control:checked~label.sk-toggleable__label {background-color: #d4ebff;}#sk-container-id-1 div.sk-label input.sk-toggleable__control:checked~label.sk-toggleable__label {background-color: #d4ebff;}#sk-container-id-1 input.sk-hidden--visually {border: 0;clip: rect(1px 1px 1px 1px);clip: rect(1px, 1px, 1px, 1px);height: 1px;margin: -1px;overflow: hidden;padding: 0;position: absolute;width: 1px;}#sk-container-id-1 div.sk-estimator {font-family: monospace;background-color: #f0f8ff;border: 1px dotted black;border-radius: 0.25em;box-sizing: border-box;margin-bottom: 0.5em;}#sk-container-id-1 div.sk-estimator:hover {background-color: #d4ebff;}#sk-container-id-1 div.sk-parallel-item::after {content: \"\";width: 100%;border-bottom: 1px solid gray;flex-grow: 1;}#sk-container-id-1 div.sk-label:hover label.sk-toggleable__label {background-color: #d4ebff;}#sk-container-id-1 div.sk-serial::before {content: \"\";position: absolute;border-left: 1px solid gray;box-sizing: border-box;top: 0;bottom: 0;left: 50%;z-index: 0;}#sk-container-id-1 div.sk-serial {display: flex;flex-direction: column;align-items: center;background-color: white;padding-right: 0.2em;padding-left: 0.2em;position: relative;}#sk-container-id-1 div.sk-item {position: relative;z-index: 1;}#sk-container-id-1 div.sk-parallel {display: flex;align-items: stretch;justify-content: center;background-color: white;position: relative;}#sk-container-id-1 div.sk-item::before, #sk-container-id-1 div.sk-parallel-item::before {content: \"\";position: absolute;border-left: 1px solid gray;box-sizing: border-box;top: 0;bottom: 0;left: 50%;z-index: -1;}#sk-container-id-1 div.sk-parallel-item {display: flex;flex-direction: column;z-index: 1;position: relative;background-color: white;}#sk-container-id-1 div.sk-parallel-item:first-child::after {align-self: flex-end;width: 50%;}#sk-container-id-1 div.sk-parallel-item:last-child::after {align-self: flex-start;width: 50%;}#sk-container-id-1 div.sk-parallel-item:only-child::after {width: 0;}#sk-container-id-1 div.sk-dashed-wrapped {border: 1px dashed gray;margin: 0 0.4em 0.5em 0.4em;box-sizing: border-box;padding-bottom: 0.4em;background-color: white;}#sk-container-id-1 div.sk-label label {font-family: monospace;font-weight: bold;display: inline-block;line-height: 1.2em;}#sk-container-id-1 div.sk-label-container {text-align: center;}#sk-container-id-1 div.sk-container {/* jupyter's `normalize.less` sets `[hidden] { display: none; }` but bootstrap.min.css set `[hidden] { display: none !important; }` so we also need the `!important` here to be able to override the default hidden behavior on the sphinx rendered scikit-learn.org. See: https://github.com/scikit-learn/scikit-learn/issues/21755 */display: inline-block !important;position: relative;}#sk-container-id-1 div.sk-text-repr-fallback {display: none;}</style><div id=\"sk-container-id-1\" class=\"sk-top-container\"><div class=\"sk-text-repr-fallback\"><pre>GridSearchCV(cv=3, estimator=SVC(probability=True),\n",
       "             param_grid={&#x27;C&#x27;: [0.5, 1, 10, 20, 30, 50], &#x27;coef0&#x27;: [0, 1],\n",
       "                         &#x27;gamma&#x27;: [0.1, 0.05, 0.01, 0.001, 0.002, 0.005],\n",
       "                         &#x27;kernel&#x27;: [&#x27;rbf&#x27;, &#x27;poly&#x27;]},\n",
       "             scoring=&#x27;accuracy&#x27;, verbose=2)</pre><b>In a Jupyter environment, please rerun this cell to show the HTML representation or trust the notebook. <br />On GitHub, the HTML representation is unable to render, please try loading this page with nbviewer.org.</b></div><div class=\"sk-container\" hidden><div class=\"sk-item sk-dashed-wrapped\"><div class=\"sk-label-container\"><div class=\"sk-label sk-toggleable\"><input class=\"sk-toggleable__control sk-hidden--visually\" id=\"sk-estimator-id-1\" type=\"checkbox\" ><label for=\"sk-estimator-id-1\" class=\"sk-toggleable__label sk-toggleable__label-arrow\">GridSearchCV</label><div class=\"sk-toggleable__content\"><pre>GridSearchCV(cv=3, estimator=SVC(probability=True),\n",
       "             param_grid={&#x27;C&#x27;: [0.5, 1, 10, 20, 30, 50], &#x27;coef0&#x27;: [0, 1],\n",
       "                         &#x27;gamma&#x27;: [0.1, 0.05, 0.01, 0.001, 0.002, 0.005],\n",
       "                         &#x27;kernel&#x27;: [&#x27;rbf&#x27;, &#x27;poly&#x27;]},\n",
       "             scoring=&#x27;accuracy&#x27;, verbose=2)</pre></div></div></div><div class=\"sk-parallel\"><div class=\"sk-parallel-item\"><div class=\"sk-item\"><div class=\"sk-label-container\"><div class=\"sk-label sk-toggleable\"><input class=\"sk-toggleable__control sk-hidden--visually\" id=\"sk-estimator-id-2\" type=\"checkbox\" ><label for=\"sk-estimator-id-2\" class=\"sk-toggleable__label sk-toggleable__label-arrow\">estimator: SVC</label><div class=\"sk-toggleable__content\"><pre>SVC(probability=True)</pre></div></div></div><div class=\"sk-serial\"><div class=\"sk-item\"><div class=\"sk-estimator sk-toggleable\"><input class=\"sk-toggleable__control sk-hidden--visually\" id=\"sk-estimator-id-3\" type=\"checkbox\" ><label for=\"sk-estimator-id-3\" class=\"sk-toggleable__label sk-toggleable__label-arrow\">SVC</label><div class=\"sk-toggleable__content\"><pre>SVC(probability=True)</pre></div></div></div></div></div></div></div></div></div></div>"
      ],
      "text/plain": [
       "GridSearchCV(cv=3, estimator=SVC(probability=True),\n",
       "             param_grid={'C': [0.5, 1, 10, 20, 30, 50], 'coef0': [0, 1],\n",
       "                         'gamma': [0.1, 0.05, 0.01, 0.001, 0.002, 0.005],\n",
       "                         'kernel': ['rbf', 'poly']},\n",
       "             scoring='accuracy', verbose=2)"
      ]
     },
     "execution_count": 22,
     "metadata": {},
     "output_type": "execute_result"
    }
   ],
   "source": [
    "model_grid.fit(x_train,y_train)"
   ]
  },
  {
   "cell_type": "code",
   "execution_count": 23,
   "id": "513e1303",
   "metadata": {},
   "outputs": [
    {
     "data": {
      "text/plain": [
       "{'C': 10, 'coef0': 0, 'gamma': 0.005, 'kernel': 'rbf'}"
      ]
     },
     "execution_count": 23,
     "metadata": {},
     "output_type": "execute_result"
    }
   ],
   "source": [
    "model_grid.best_params_"
   ]
  },
  {
   "cell_type": "code",
   "execution_count": 27,
   "id": "c174c4fe",
   "metadata": {},
   "outputs": [
    {
     "data": {
      "text/plain": [
       "{'C': 10,\n",
       " 'break_ties': False,\n",
       " 'cache_size': 200,\n",
       " 'class_weight': None,\n",
       " 'coef0': 0,\n",
       " 'decision_function_shape': 'ovr',\n",
       " 'degree': 3,\n",
       " 'gamma': 0.005,\n",
       " 'kernel': 'rbf',\n",
       " 'max_iter': -1,\n",
       " 'probability': True,\n",
       " 'random_state': None,\n",
       " 'shrinking': True,\n",
       " 'tol': 0.001,\n",
       " 'verbose': False}"
      ]
     },
     "execution_count": 27,
     "metadata": {},
     "output_type": "execute_result"
    }
   ],
   "source": [
    "model_finale = model_grid.best_estimator_\n",
    "model_finale.get_params()"
   ]
  },
  {
   "cell_type": "code",
   "execution_count": 28,
   "id": "af9dacab",
   "metadata": {},
   "outputs": [],
   "source": [
    "y_pred = model_finale.predict(x_test)"
   ]
  },
  {
   "cell_type": "markdown",
   "id": "52606441",
   "metadata": {},
   "source": [
    "### **Classification Report**"
   ]
  },
  {
   "cell_type": "code",
   "execution_count": 29,
   "id": "8658c992",
   "metadata": {},
   "outputs": [
    {
     "data": {
      "text/html": [
       "<div>\n",
       "<style scoped>\n",
       "    .dataframe tbody tr th:only-of-type {\n",
       "        vertical-align: middle;\n",
       "    }\n",
       "\n",
       "    .dataframe tbody tr th {\n",
       "        vertical-align: top;\n",
       "    }\n",
       "\n",
       "    .dataframe thead th {\n",
       "        text-align: right;\n",
       "    }\n",
       "</style>\n",
       "<table border=\"1\" class=\"dataframe\">\n",
       "  <thead>\n",
       "    <tr style=\"text-align: right;\">\n",
       "      <th></th>\n",
       "      <th>precision</th>\n",
       "      <th>recall</th>\n",
       "      <th>f1-score</th>\n",
       "      <th>support</th>\n",
       "    </tr>\n",
       "  </thead>\n",
       "  <tbody>\n",
       "    <tr>\n",
       "      <th>female</th>\n",
       "      <td>0.826552</td>\n",
       "      <td>0.807531</td>\n",
       "      <td>0.816931</td>\n",
       "      <td>478.0</td>\n",
       "    </tr>\n",
       "    <tr>\n",
       "      <th>male</th>\n",
       "      <td>0.768844</td>\n",
       "      <td>0.790698</td>\n",
       "      <td>0.779618</td>\n",
       "      <td>387.0</td>\n",
       "    </tr>\n",
       "    <tr>\n",
       "      <th>accuracy</th>\n",
       "      <td>0.800000</td>\n",
       "      <td>0.800000</td>\n",
       "      <td>0.800000</td>\n",
       "      <td>0.8</td>\n",
       "    </tr>\n",
       "    <tr>\n",
       "      <th>macro avg</th>\n",
       "      <td>0.797698</td>\n",
       "      <td>0.799115</td>\n",
       "      <td>0.798275</td>\n",
       "      <td>865.0</td>\n",
       "    </tr>\n",
       "    <tr>\n",
       "      <th>weighted avg</th>\n",
       "      <td>0.800734</td>\n",
       "      <td>0.800000</td>\n",
       "      <td>0.800237</td>\n",
       "      <td>865.0</td>\n",
       "    </tr>\n",
       "  </tbody>\n",
       "</table>\n",
       "</div>"
      ],
      "text/plain": [
       "              precision    recall  f1-score  support\n",
       "female         0.826552  0.807531  0.816931    478.0\n",
       "male           0.768844  0.790698  0.779618    387.0\n",
       "accuracy       0.800000  0.800000  0.800000      0.8\n",
       "macro avg      0.797698  0.799115  0.798275    865.0\n",
       "weighted avg   0.800734  0.800000  0.800237    865.0"
      ]
     },
     "execution_count": 29,
     "metadata": {},
     "output_type": "execute_result"
    }
   ],
   "source": [
    "cr = metrics.classification_report(y_test,y_pred,output_dict=True)\n",
    "pd.DataFrame(cr).T"
   ]
  },
  {
   "cell_type": "markdown",
   "id": "a0a54286",
   "metadata": {},
   "source": [
    "### Kappa Score"
   ]
  },
  {
   "cell_type": "code",
   "execution_count": 30,
   "id": "ef0deaf5",
   "metadata": {},
   "outputs": [
    {
     "data": {
      "text/plain": [
       "0.5966148479808504"
      ]
     },
     "execution_count": 30,
     "metadata": {},
     "output_type": "execute_result"
    }
   ],
   "source": [
    "metrics.cohen_kappa_score(y_test,y_pred)"
   ]
  },
  {
   "cell_type": "markdown",
   "id": "c7b1fe6f",
   "metadata": {},
   "source": [
    "### Area Under Curve (AUC)"
   ]
  },
  {
   "cell_type": "code",
   "execution_count": 31,
   "id": "df1b3a73",
   "metadata": {},
   "outputs": [
    {
     "data": {
      "text/plain": [
       "0.7991145275858714"
      ]
     },
     "execution_count": 31,
     "metadata": {},
     "output_type": "execute_result"
    }
   ],
   "source": [
    "metrics.roc_auc_score(np.where(y_test==\"male\",1,0),np.where(y_pred==\"male\",1,0))"
   ]
  },
  {
   "cell_type": "markdown",
   "id": "de01e123",
   "metadata": {},
   "source": [
    "**Model Evaluation**\n",
    "\n",
    "- Classification Report\n",
    "  - Precision, Recall, F1-Score\n",
    "- Kappa Score\n",
    "  ---ve (worst model)\n",
    "   - 0 to 0.5 (bad model)\n",
    "   - 0.5 to 0.7 (Good Model)\n",
    "   - 0.7 to 0.9 (Excellent Model)\n",
    "   - 0.9 to 1.0 (Perfect Model)\n",
    "- AUC\n",
    "    - Less than 0.5 (Worst Model)\n",
    "    - 0.5 to 0.6 (Bad Model)\n",
    "    - 0.6 to 0.8 (Good Model)\n",
    "    - 0.8 to 0.9 (Excellent Model)\n",
    "    - 0.9 to 1.0 (Perfect Model)"
   ]
  },
  {
   "cell_type": "code",
   "execution_count": null,
   "id": "5ec5ee82",
   "metadata": {},
   "outputs": [],
   "source": []
  }
 ],
 "metadata": {
  "kernelspec": {
   "display_name": "Python 3 (ipykernel)",
   "language": "python",
   "name": "python3"
  },
  "language_info": {
   "codemirror_mode": {
    "name": "ipython",
    "version": 3
   },
   "file_extension": ".py",
   "mimetype": "text/x-python",
   "name": "python",
   "nbconvert_exporter": "python",
   "pygments_lexer": "ipython3",
   "version": "3.10.1"
  }
 },
 "nbformat": 4,
 "nbformat_minor": 5
}
