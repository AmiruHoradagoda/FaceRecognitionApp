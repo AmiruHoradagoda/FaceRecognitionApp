{
 "cells": [
  {
   "cell_type": "code",
   "execution_count": 1,
   "id": "31fbee4a",
   "metadata": {},
   "outputs": [],
   "source": [
    "import numpy as np\n",
    "import pandas as pd\n",
    "import sklearn\n",
    "import pickle\n",
    "\n",
    "import matplotlib.pyplot as plt\n",
    "import cv2"
   ]
  },
  {
   "cell_type": "code",
   "execution_count": 2,
   "id": "128f0885",
   "metadata": {},
   "outputs": [],
   "source": [
    "#Load all models\n",
    "haar = cv2.CascadeClassifier('./model/haarcascade_frontalface_default.xml') # cascade classifier\n",
    "model_svm = pickle.load(open('./model/model_svm.pkl',mode='rb')) #Machine learning model (SVM)\n",
    "pca_models = pickle.load(open('./model/pca_dict.pkl',mode='rb'))#pca dictionary"
   ]
  },
  {
   "cell_type": "code",
   "execution_count": 3,
   "id": "e3fb6ce3",
   "metadata": {},
   "outputs": [
    {
     "data": {
      "text/plain": [
       "{'pca': PCA(n_components=50, whiten=True),\n",
       " 'mean_face': array([0.3734593 , 0.37059958, 0.3664248 , ..., 0.37918601, 0.37892282,\n",
       "        0.3807089 ])}"
      ]
     },
     "execution_count": 3,
     "metadata": {},
     "output_type": "execute_result"
    }
   ],
   "source": [
    "model_pca = pca_models['pca']\n",
    "mean_face_arr = pca_models['mean_face'] #Mean Face"
   ]
  },
  {
   "cell_type": "code",
   "execution_count": null,
   "id": "db046193",
   "metadata": {},
   "outputs": [],
   "source": []
  }
 ],
 "metadata": {
  "kernelspec": {
   "display_name": "Python 3 (ipykernel)",
   "language": "python",
   "name": "python3"
  },
  "language_info": {
   "codemirror_mode": {
    "name": "ipython",
    "version": 3
   },
   "file_extension": ".py",
   "mimetype": "text/x-python",
   "name": "python",
   "nbconvert_exporter": "python",
   "pygments_lexer": "ipython3",
   "version": "3.10.1"
  }
 },
 "nbformat": 4,
 "nbformat_minor": 5
}
